{
 "cells": [
  {
   "cell_type": "code",
   "execution_count": 122,
   "metadata": {
    "collapsed": true
   },
   "outputs": [],
   "source": [
    "import numpy as np\n",
    "import pandas as pd\n",
    "import matplotlib.pyplot as plt\n",
    "import seaborn as sb\n",
    "import torch\n",
    "import torch.nn as nn\n",
    "from torch.utils.data import Dataset, DataLoader\n",
    "import torchmetrics as tm\n",
    "from pytorch_lightning import LightningModule, Trainer\n",
    "from pytorch_lightning.callbacks import ModelCheckpoint"
   ]
  },
  {
   "cell_type": "code",
   "execution_count": 123,
   "outputs": [],
   "source": [
    "with open('datasets/activity_labels.txt') as f:\n",
    "\tdefined_labels = [line.strip().split(\" \")[1] for line in f]"
   ],
   "metadata": {
    "collapsed": false,
    "pycharm": {
     "name": "#%%\n"
    }
   }
  },
  {
   "cell_type": "code",
   "execution_count": 124,
   "outputs": [
    {
     "data": {
      "text/plain": "   ExpId  UserId  ActId  Start   End\n0      1       1      5    250  1232\n1      1       1      7   1233  1392\n2      1       1      4   1393  2194\n3      1       1      8   2195  2359\n4      1       1      5   2360  3374",
      "text/html": "<div>\n<style scoped>\n    .dataframe tbody tr th:only-of-type {\n        vertical-align: middle;\n    }\n\n    .dataframe tbody tr th {\n        vertical-align: top;\n    }\n\n    .dataframe thead th {\n        text-align: right;\n    }\n</style>\n<table border=\"1\" class=\"dataframe\">\n  <thead>\n    <tr style=\"text-align: right;\">\n      <th></th>\n      <th>ExpId</th>\n      <th>UserId</th>\n      <th>ActId</th>\n      <th>Start</th>\n      <th>End</th>\n    </tr>\n  </thead>\n  <tbody>\n    <tr>\n      <th>0</th>\n      <td>1</td>\n      <td>1</td>\n      <td>5</td>\n      <td>250</td>\n      <td>1232</td>\n    </tr>\n    <tr>\n      <th>1</th>\n      <td>1</td>\n      <td>1</td>\n      <td>7</td>\n      <td>1233</td>\n      <td>1392</td>\n    </tr>\n    <tr>\n      <th>2</th>\n      <td>1</td>\n      <td>1</td>\n      <td>4</td>\n      <td>1393</td>\n      <td>2194</td>\n    </tr>\n    <tr>\n      <th>3</th>\n      <td>1</td>\n      <td>1</td>\n      <td>8</td>\n      <td>2195</td>\n      <td>2359</td>\n    </tr>\n    <tr>\n      <th>4</th>\n      <td>1</td>\n      <td>1</td>\n      <td>5</td>\n      <td>2360</td>\n      <td>3374</td>\n    </tr>\n  </tbody>\n</table>\n</div>"
     },
     "execution_count": 124,
     "metadata": {},
     "output_type": "execute_result"
    }
   ],
   "source": [
    "lookup = pd.read_csv('datasets/RawData/labels.txt', sep = ' ', header = None)\n",
    "lookup.columns = [\"ExpId\", \"UserId\", \"ActId\", \"Start\", \"End\"]\n",
    "lookup.head()"
   ],
   "metadata": {
    "collapsed": false,
    "pycharm": {
     "name": "#%%\n"
    }
   }
  },
  {
   "cell_type": "code",
   "execution_count": 125,
   "outputs": [
    {
     "data": {
      "text/plain": "       Duration\nActId          \n1           140\n2           221\n3           215\n4           622\n5           759\n6           777\n7            89\n8            73\n9           135\n10          113\n11          138\n12          117",
      "text/html": "<div>\n<style scoped>\n    .dataframe tbody tr th:only-of-type {\n        vertical-align: middle;\n    }\n\n    .dataframe tbody tr th {\n        vertical-align: top;\n    }\n\n    .dataframe thead th {\n        text-align: right;\n    }\n</style>\n<table border=\"1\" class=\"dataframe\">\n  <thead>\n    <tr style=\"text-align: right;\">\n      <th></th>\n      <th>Duration</th>\n    </tr>\n    <tr>\n      <th>ActId</th>\n      <th></th>\n    </tr>\n  </thead>\n  <tbody>\n    <tr>\n      <th>1</th>\n      <td>140</td>\n    </tr>\n    <tr>\n      <th>2</th>\n      <td>221</td>\n    </tr>\n    <tr>\n      <th>3</th>\n      <td>215</td>\n    </tr>\n    <tr>\n      <th>4</th>\n      <td>622</td>\n    </tr>\n    <tr>\n      <th>5</th>\n      <td>759</td>\n    </tr>\n    <tr>\n      <th>6</th>\n      <td>777</td>\n    </tr>\n    <tr>\n      <th>7</th>\n      <td>89</td>\n    </tr>\n    <tr>\n      <th>8</th>\n      <td>73</td>\n    </tr>\n    <tr>\n      <th>9</th>\n      <td>135</td>\n    </tr>\n    <tr>\n      <th>10</th>\n      <td>113</td>\n    </tr>\n    <tr>\n      <th>11</th>\n      <td>138</td>\n    </tr>\n    <tr>\n      <th>12</th>\n      <td>117</td>\n    </tr>\n  </tbody>\n</table>\n</div>"
     },
     "execution_count": 125,
     "metadata": {},
     "output_type": "execute_result"
    }
   ],
   "source": [
    "lookup[\"Duration\"] = lookup[\"End\"]-lookup[\"Start\"]\n",
    "lookup[[\"ActId\",\"Duration\"]].groupby(['ActId']).min()"
   ],
   "metadata": {
    "collapsed": false,
    "pycharm": {
     "name": "#%%\n"
    }
   }
  },
  {
   "cell_type": "code",
   "execution_count": 126,
   "outputs": [],
   "source": [
    "lookup[\"AdjStart\"] = round(lookup[\"Start\"] + lookup[\"Duration\"] * 0.05)\n",
    "lookup[\"AdjEnd\"] = round(lookup[\"End\"]- lookup[\"Duration\"] * 0.05)"
   ],
   "metadata": {
    "collapsed": false,
    "pycharm": {
     "name": "#%%\n"
    }
   }
  },
  {
   "cell_type": "code",
   "execution_count": 127,
   "outputs": [
    {
     "data": {
      "text/plain": "       AdjDuration\nActId             \n1            126.0\n2            199.0\n3            193.0\n4            560.0\n5            683.0\n6            699.0\n7             81.0\n8             65.0\n9            121.0\n10           101.0\n11           124.0\n12           105.0",
      "text/html": "<div>\n<style scoped>\n    .dataframe tbody tr th:only-of-type {\n        vertical-align: middle;\n    }\n\n    .dataframe tbody tr th {\n        vertical-align: top;\n    }\n\n    .dataframe thead th {\n        text-align: right;\n    }\n</style>\n<table border=\"1\" class=\"dataframe\">\n  <thead>\n    <tr style=\"text-align: right;\">\n      <th></th>\n      <th>AdjDuration</th>\n    </tr>\n    <tr>\n      <th>ActId</th>\n      <th></th>\n    </tr>\n  </thead>\n  <tbody>\n    <tr>\n      <th>1</th>\n      <td>126.0</td>\n    </tr>\n    <tr>\n      <th>2</th>\n      <td>199.0</td>\n    </tr>\n    <tr>\n      <th>3</th>\n      <td>193.0</td>\n    </tr>\n    <tr>\n      <th>4</th>\n      <td>560.0</td>\n    </tr>\n    <tr>\n      <th>5</th>\n      <td>683.0</td>\n    </tr>\n    <tr>\n      <th>6</th>\n      <td>699.0</td>\n    </tr>\n    <tr>\n      <th>7</th>\n      <td>81.0</td>\n    </tr>\n    <tr>\n      <th>8</th>\n      <td>65.0</td>\n    </tr>\n    <tr>\n      <th>9</th>\n      <td>121.0</td>\n    </tr>\n    <tr>\n      <th>10</th>\n      <td>101.0</td>\n    </tr>\n    <tr>\n      <th>11</th>\n      <td>124.0</td>\n    </tr>\n    <tr>\n      <th>12</th>\n      <td>105.0</td>\n    </tr>\n  </tbody>\n</table>\n</div>"
     },
     "execution_count": 127,
     "metadata": {},
     "output_type": "execute_result"
    }
   ],
   "source": [
    "lookup[\"AdjDuration\"] = lookup[\"AdjEnd\"]-lookup[\"AdjStart\"]\n",
    "lookup[[\"ActId\",\"AdjDuration\"]].groupby(['ActId']).min()"
   ],
   "metadata": {
    "collapsed": false,
    "pycharm": {
     "name": "#%%\n"
    }
   }
  },
  {
   "cell_type": "code",
   "execution_count": 128,
   "outputs": [],
   "source": [
    "expid = 0\n",
    "userid = 0\n",
    "val = [7, 24, 9, 19]\n",
    "test = [28, 8, 21, 3]\n",
    "x_train = []\n",
    "x_val = []\n",
    "x_test = []\n",
    "y_train = []\n",
    "y_val = []\n",
    "y_test = []\n",
    "for _,row in lookup.iterrows():\n",
    "\tif expid != row[\"ExpId\"] or userid != row[\"UserId\"]:\n",
    "\t\texpid = int(row[\"ExpId\"])\n",
    "\t\tuserid = int(row[\"UserId\"])\n",
    "\t\tacc_file = f'datasets/RawData/acc_exp{\"{:02d}\".format(expid)}_user{\"{:02d}\".format(userid)}.txt'\n",
    "\t\tgyro_file = f'datasets/RawData/gyro_exp{\"{:02d}\".format(expid)}_user{\"{:02d}\".format(userid)}.txt'\n",
    "\t\tacc = pd.read_csv(acc_file, sep = ' ', header = None)\n",
    "\t\tacc.columns = [\"ax\", \"ay\", \"az\"]\n",
    "\t\tgyro = pd.read_csv(gyro_file, sep = ' ', header = None)\n",
    "\t\tgyro.columns = [\"gx\", \"gy\", \"gz\"]\n",
    "\t\tdata = pd.concat([acc, gyro], axis=1)\n",
    "\tfor i in range(int(row[\"AdjStart\"]), int(row[\"AdjEnd\"]), 64):\n",
    "\t\tif userid in val:\n",
    "\t\t\tx_val.append(torch.tensor(data[i:i+64].values.astype(np.float32)))\n",
    "\t\t\ty_val.append(row[\"ActId\"]-1)\n",
    "\t\telif userid in test:\n",
    "\t\t\tx_test.append(torch.tensor(data[i:i+64].values.astype(np.float32)))\n",
    "\t\t\ty_test.append(row[\"ActId\"]-1)\n",
    "\t\telse:\n",
    "\t\t\tx_train.append(torch.tensor(data[i:i+64].values.astype(np.float32)))\n",
    "\t\t\ty_train.append(row[\"ActId\"]-1)"
   ],
   "metadata": {
    "collapsed": false,
    "pycharm": {
     "name": "#%%\n"
    }
   }
  },
  {
   "cell_type": "code",
   "execution_count": 129,
   "outputs": [],
   "source": [
    "class TimeSeriesDataset(Dataset):\n",
    "\tdef __init__(self, ts, labels):\n",
    "\t\tself.ts = ts\n",
    "\t\tself.labels = labels\n",
    "\n",
    "\tdef __len__(self):\n",
    "\t\treturn len(self.labels)\n",
    "\n",
    "\tdef __getitem__(self, idx):\n",
    "\t\ttimeperiod = self.ts[idx]\n",
    "\t\tlabel = self.labels[idx]\n",
    "\t\treturn timeperiod, label"
   ],
   "metadata": {
    "collapsed": false,
    "pycharm": {
     "name": "#%%\n"
    }
   }
  },
  {
   "cell_type": "code",
   "execution_count": 130,
   "outputs": [],
   "source": [
    "train_data = TimeSeriesDataset(x_train, y_train)\n",
    "val_data = TimeSeriesDataset(x_val, y_val)\n",
    "test_data = TimeSeriesDataset(x_test, y_test)"
   ],
   "metadata": {
    "collapsed": false,
    "pycharm": {
     "name": "#%%\n"
    }
   }
  },
  {
   "cell_type": "code",
   "execution_count": 131,
   "outputs": [],
   "source": [
    "train_dataloader = DataLoader(train_data, batch_size=64, shuffle=True)\n",
    "val_dataloader = DataLoader(val_data, batch_size=64)\n",
    "test_dataloader = DataLoader(test_data, batch_size=64)"
   ],
   "metadata": {
    "collapsed": false,
    "pycharm": {
     "name": "#%%\n"
    }
   }
  },
  {
   "cell_type": "code",
   "execution_count": 132,
   "outputs": [],
   "source": [
    "class ClassificationMetrics(nn.Module):\n",
    "    def __init__(self, num_classes: int, mode: str):\n",
    "        super().__init__()\n",
    "        self.num_classes = num_classes\n",
    "        self.mode = mode\n",
    "\n",
    "        self.categ_pc = tm.Precision(num_classes=self.num_classes, average=\"none\")\n",
    "        self.macro_pc = tm.Precision(num_classes=self.num_classes, average=\"macro\")\n",
    "        self.micro_pc = tm.Precision(num_classes=self.num_classes, average=\"micro\")\n",
    "        self.weigh_pc = tm.Precision(num_classes=self.num_classes, average=\"weighted\")\n",
    "\n",
    "        self.categ_rc = tm.Recall(num_classes=self.num_classes, average=\"none\")\n",
    "        self.macro_rc = tm.Recall(num_classes=self.num_classes, average=\"macro\")\n",
    "        self.micro_rc = tm.Recall(num_classes=self.num_classes, average=\"micro\")\n",
    "        self.weigh_rc = tm.Recall(num_classes=self.num_classes, average=\"weighted\")\n",
    "\n",
    "        self.categ_f1 = tm.F1(num_classes=self.num_classes, average=\"none\")\n",
    "        self.macro_f1 = tm.F1(num_classes=self.num_classes, average=\"macro\")\n",
    "        self.micro_f1 = tm.F1(num_classes=self.num_classes, average=\"micro\")\n",
    "        self.weigh_f1 = tm.F1(num_classes=self.num_classes, average=\"weighted\")\n",
    "\n",
    "        self.cnfs_mat = tm.ConfusionMatrix(num_classes=self.num_classes, normalize=\"true\")\n",
    "\n",
    "        self.mcc = tm.MatthewsCorrcoef(num_classes=self.num_classes)\n",
    "\n",
    "    def to(self, device: torch.device):\n",
    "        self.categ_pc.to(device)\n",
    "        self.macro_pc.to(device)\n",
    "        self.micro_pc.to(device)\n",
    "        self.weigh_pc.to(device)\n",
    "\n",
    "        self.categ_rc.to(device)\n",
    "        self.macro_rc.to(device)\n",
    "        self.micro_rc.to(device)\n",
    "        self.weigh_rc.to(device)\n",
    "\n",
    "        self.categ_f1.to(device)\n",
    "        self.macro_f1.to(device)\n",
    "        self.micro_f1.to(device)\n",
    "        self.weigh_f1.to(device)\n",
    "\n",
    "        self.cnfs_mat.to(device)\n",
    "\n",
    "        self.mcc.to(device)\n",
    "\n",
    "    def forward(self, x, y):\n",
    "        self.categ_pc(x, y)\n",
    "        self.macro_pc(x, y)\n",
    "        self.micro_pc(x, y)\n",
    "        self.weigh_pc(x, y)\n",
    "\n",
    "        self.categ_rc(x, y)\n",
    "        self.macro_rc(x, y)\n",
    "        self.micro_rc(x, y)\n",
    "        self.weigh_rc(x, y)\n",
    "\n",
    "        self.categ_f1(x, y)\n",
    "        self.macro_f1(x, y)\n",
    "        self.micro_f1(x, y)\n",
    "        self.weigh_f1(x, y)\n",
    "\n",
    "        self.cnfs_mat(x, y)\n",
    "        self.mcc(x, y)"
   ],
   "metadata": {
    "collapsed": false,
    "pycharm": {
     "name": "#%%\n"
    }
   }
  },
  {
   "cell_type": "code",
   "execution_count": 133,
   "outputs": [],
   "source": [
    "class NeuralNetModel(LightningModule):\n",
    "\tdef __init__(self, input_dim, hidden_size, num_classes, labels):\n",
    "\t\tsuper().__init__()\n",
    "\t\tself.input_dim = input_dim\n",
    "\t\tself.hidden_size = hidden_size\n",
    "\t\tself.num_classes = num_classes\n",
    "\t\tself.rnn = nn.GRU(self.input_dim, self.hidden_size, batch_first=True)\n",
    "\t\tself.dense = nn.Linear(self.hidden_size, self.hidden_size)\n",
    "\t\tself.activation = nn.Tanh()\n",
    "\t\tself.linear = nn.Linear(self.hidden_size, self.num_classes)\n",
    "\t\tself.classification = nn.Sequential(self.dense, self.activation, self.linear)\n",
    "\t\tself.loss = nn.CrossEntropyLoss()\n",
    "\t\tself.labels = labels if labels is not None else list(range(self.num_classes))\n",
    "\n",
    "\tdef setup(self, stage=None) -> None:\n",
    "\t\tif stage == 'fit':\n",
    "\t\t\tself.val_metrics = ClassificationMetrics(self.num_classes, \"val\")\n",
    "\t\tif stage == 'test':\n",
    "\t\t\tself.test_metrics = ClassificationMetrics(self.num_classes, \"test\")\n",
    "\n",
    "\tdef forward(self, x):\n",
    "\t\toutput, h_n = self.rnn(x)\n",
    "\t\tencoding = h_n[0, :, :]\n",
    "\t\tresult = self.classification(encoding)\n",
    "\t\treturn result\n",
    "\n",
    "\tdef configure_optimizers(self):\n",
    "\t\treturn torch.optim.AdamW(self.parameters(), lr=1e-3)\n",
    "\n",
    "\tdef training_step(self, batch, batch_idx):\n",
    "\t\tx, y = batch\n",
    "\t\tpred = self(x)\n",
    "\t\ty = y.type_as(pred).long()\n",
    "\t\tloss = self.loss(pred, y)\n",
    "\t\tself.log(\"train_loss\", loss)\n",
    "\t\treturn loss\n",
    "\n",
    "\tdef validation_step(self, batch, batch_idx):\n",
    "\t\tx, y = batch\n",
    "\t\tpred = self(x)\n",
    "\t\ty = y.type_as(pred).long()\n",
    "\t\tloss = self.loss(pred, y)\n",
    "\t\tself.val_metrics(pred, y)\n",
    "\t\tself.log(\"val_loss\", loss)\n",
    "\t\tself.log_scalars(self.val_metrics)\n",
    "\n",
    "\tdef validation_epoch_end(self, outputs):\n",
    "\t\tself.log_nonscalars(self.val_metrics)\n",
    "\n",
    "\tdef test_step(self, batch, batch_idx):\n",
    "\t\tx, y = batch\n",
    "\t\tpred = self(x)\n",
    "\t\ty = y.type_as(pred).long()\n",
    "\t\tloss = self.loss(pred, y)\n",
    "\t\tself.test_metrics(pred, y)\n",
    "\t\tself.log(\"test_loss\", loss)\n",
    "\t\tself.log_scalars(self.test_metrics)\n",
    "\n",
    "\tdef test_epoch_end(self, outputs):\n",
    "\t\tself.log_nonscalars(self.test_metrics)\n",
    "\n",
    "\tdef log_scalars(self, metric: ClassificationMetrics):\n",
    "\t\tself.log(f\"{metric.mode}_precision_macro\", metric.macro_pc)\n",
    "\t\tself.log(f\"{metric.mode}_precision_micro\", metric.micro_pc)\n",
    "\t\tself.log(f\"{metric.mode}_precision_weighted\", metric.weigh_pc)\n",
    "\n",
    "\t\tself.log(f\"{metric.mode}_recall_macro\", metric.macro_rc)\n",
    "\t\tself.log(f\"{metric.mode}_recall_micro\", metric.micro_rc)\n",
    "\t\tself.log(f\"{metric.mode}_recall_weighted\", metric.weigh_rc)\n",
    "\n",
    "\t\tself.log(f\"{metric.mode}_f1_macro\", metric.macro_f1)\n",
    "\t\tself.log(f\"{metric.mode}_f1_micro\", metric.micro_f1)\n",
    "\t\tself.log(f\"{metric.mode}_f1_weighted\", metric.weigh_f1)\n",
    "\n",
    "\t\tself.log(f\"{metric.mode}_mcc\", metric.mcc)\n",
    "\n",
    "\tdef log_nonscalars(self, metric: ClassificationMetrics):\n",
    "\t\tfig = plt.figure(figsize=(24, 24))\n",
    "\t\tcf_matrix = metric.cnfs_mat.compute().cpu().numpy()\n",
    "\t\tsb.heatmap(cf_matrix, annot=True, xticklabels=self.labels, yticklabels=self.labels, fmt='.1%')\n",
    "\t\tself.logger.experiment.add_figure(f\"{metric.mode}_cnfs_mat\", fig, global_step=self.current_epoch)\n",
    "\n",
    "\t\tcateg_pc = metric.categ_pc.compute().cpu().tolist()\n",
    "\t\tpc_map = dict(zip(self.labels, categ_pc))\n",
    "\t\tself.logger.experiment.add_scalars(f\"{metric.mode}_precision_categ\", pc_map, global_step=self.current_epoch)\n",
    "\n",
    "\t\tcateg_rc = metric.categ_pc.compute().cpu().tolist()\n",
    "\t\trc_map = dict(zip(self.labels, categ_rc))\n",
    "\t\tself.logger.experiment.add_scalars(f\"{metric.mode}_recall_categ\", rc_map, global_step=self.current_epoch)\n",
    "\n",
    "\t\tcateg_f1 = metric.categ_pc.compute().cpu().tolist()\n",
    "\t\tf1_map = dict(zip(self.labels, categ_f1))\n",
    "\t\tself.logger.experiment.add_scalars(f\"{metric.mode}_f1_categ\", f1_map, global_step=self.current_epoch)"
   ],
   "metadata": {
    "collapsed": false,
    "pycharm": {
     "name": "#%%\n"
    }
   }
  },
  {
   "cell_type": "code",
   "execution_count": 134,
   "outputs": [
    {
     "name": "stderr",
     "output_type": "stream",
     "text": [
      "GPU available: False, used: False\n",
      "TPU available: False, using: 0 TPU cores\n",
      "IPU available: False, using: 0 IPUs\n",
      "\n",
      "  | Name        | Type                  | Params\n",
      "------------------------------------------------------\n",
      "0 | rnn         | GRU                   | 32.4 K\n",
      "1 | linear      | Linear                | 1.2 K \n",
      "2 | loss        | CrossEntropyLoss      | 0     \n",
      "3 | val_metrics | ClassificationMetrics | 0     \n",
      "------------------------------------------------------\n",
      "33.6 K    Trainable params\n",
      "0         Non-trainable params\n",
      "33.6 K    Total params\n",
      "0.134     Total estimated model params size (MB)\n"
     ]
    },
    {
     "data": {
      "text/plain": "Validation sanity check: 0it [00:00, ?it/s]",
      "application/vnd.jupyter.widget-view+json": {
       "version_major": 2,
       "version_minor": 0,
       "model_id": "22f4b25e03f74dfd83ac6b7617ddc8c0"
      }
     },
     "metadata": {},
     "output_type": "display_data"
    },
    {
     "name": "stderr",
     "output_type": "stream",
     "text": [
      "/Users/georgehuang/GitRepo/olsen/venv/lib/python3.8/site-packages/pytorch_lightning/trainer/data_loading.py:105: UserWarning: The dataloader, val dataloader 0, does not have many workers which may be a bottleneck. Consider increasing the value of the `num_workers` argument` (try 8 which is the number of cpus on this machine) in the `DataLoader` init to improve performance.\n",
      "  rank_zero_warn(\n",
      "/Users/georgehuang/GitRepo/olsen/venv/lib/python3.8/site-packages/torchmetrics/utilities/prints.py:36: UserWarning: 60 nan values found in confusion matrix have been replaced with zeros.\n",
      "  warnings.warn(*args, **kwargs)\n",
      "/Users/georgehuang/GitRepo/olsen/venv/lib/python3.8/site-packages/torchmetrics/utilities/prints.py:36: UserWarning: 72 nan values found in confusion matrix have been replaced with zeros.\n",
      "  warnings.warn(*args, **kwargs)\n",
      "/Users/georgehuang/GitRepo/olsen/venv/lib/python3.8/site-packages/torchmetrics/utilities/prints.py:36: UserWarning: 24 nan values found in confusion matrix have been replaced with zeros.\n",
      "  warnings.warn(*args, **kwargs)\n",
      "/Users/georgehuang/GitRepo/olsen/venv/lib/python3.8/site-packages/pytorch_lightning/trainer/data_loading.py:105: UserWarning: The dataloader, train dataloader, does not have many workers which may be a bottleneck. Consider increasing the value of the `num_workers` argument` (try 8 which is the number of cpus on this machine) in the `DataLoader` init to improve performance.\n",
      "  rank_zero_warn(\n"
     ]
    },
    {
     "data": {
      "text/plain": "Training: -1it [00:00, ?it/s]",
      "application/vnd.jupyter.widget-view+json": {
       "version_major": 2,
       "version_minor": 0,
       "model_id": "83939bda756b4465acc734a3ad91eeff"
      }
     },
     "metadata": {},
     "output_type": "display_data"
    },
    {
     "data": {
      "text/plain": "Validating: 0it [00:00, ?it/s]",
      "application/vnd.jupyter.widget-view+json": {
       "version_major": 2,
       "version_minor": 0,
       "model_id": "0e5a9f7ff1284fd194aede8973624e41"
      }
     },
     "metadata": {},
     "output_type": "display_data"
    },
    {
     "name": "stderr",
     "output_type": "stream",
     "text": [
      "/Users/georgehuang/GitRepo/olsen/venv/lib/python3.8/site-packages/torchmetrics/utilities/prints.py:36: UserWarning: 96 nan values found in confusion matrix have been replaced with zeros.\n",
      "  warnings.warn(*args, **kwargs)\n",
      "/Users/georgehuang/GitRepo/olsen/venv/lib/python3.8/site-packages/torchmetrics/utilities/prints.py:36: UserWarning: 84 nan values found in confusion matrix have been replaced with zeros.\n",
      "  warnings.warn(*args, **kwargs)\n",
      "/Users/georgehuang/GitRepo/olsen/venv/lib/python3.8/site-packages/torchmetrics/utilities/prints.py:36: UserWarning: 48 nan values found in confusion matrix have been replaced with zeros.\n",
      "  warnings.warn(*args, **kwargs)\n",
      "/Users/georgehuang/GitRepo/olsen/venv/lib/python3.8/site-packages/torchmetrics/utilities/prints.py:36: UserWarning: 108 nan values found in confusion matrix have been replaced with zeros.\n",
      "  warnings.warn(*args, **kwargs)\n",
      "/Users/georgehuang/GitRepo/olsen/venv/lib/python3.8/site-packages/torchmetrics/utilities/prints.py:36: UserWarning: 120 nan values found in confusion matrix have been replaced with zeros.\n",
      "  warnings.warn(*args, **kwargs)\n"
     ]
    },
    {
     "data": {
      "text/plain": "Validating: 0it [00:00, ?it/s]",
      "application/vnd.jupyter.widget-view+json": {
       "version_major": 2,
       "version_minor": 0,
       "model_id": "a0893c48965745b38e1c95feb79944d4"
      }
     },
     "metadata": {},
     "output_type": "display_data"
    },
    {
     "data": {
      "text/plain": "Validating: 0it [00:00, ?it/s]",
      "application/vnd.jupyter.widget-view+json": {
       "version_major": 2,
       "version_minor": 0,
       "model_id": "a3d32b21ab2342d3a5c994dd3d203b5e"
      }
     },
     "metadata": {},
     "output_type": "display_data"
    },
    {
     "data": {
      "text/plain": "Validating: 0it [00:00, ?it/s]",
      "application/vnd.jupyter.widget-view+json": {
       "version_major": 2,
       "version_minor": 0,
       "model_id": "d976e29fd69e402cb51ddfff022e3e86"
      }
     },
     "metadata": {},
     "output_type": "display_data"
    },
    {
     "data": {
      "text/plain": "Validating: 0it [00:00, ?it/s]",
      "application/vnd.jupyter.widget-view+json": {
       "version_major": 2,
       "version_minor": 0,
       "model_id": "2233c43dfae749ec808c564b5218426a"
      }
     },
     "metadata": {},
     "output_type": "display_data"
    },
    {
     "data": {
      "text/plain": "Validating: 0it [00:00, ?it/s]",
      "application/vnd.jupyter.widget-view+json": {
       "version_major": 2,
       "version_minor": 0,
       "model_id": "d0ed8dcf64544681b13653fc35c8cb01"
      }
     },
     "metadata": {},
     "output_type": "display_data"
    },
    {
     "data": {
      "text/plain": "Validating: 0it [00:00, ?it/s]",
      "application/vnd.jupyter.widget-view+json": {
       "version_major": 2,
       "version_minor": 0,
       "model_id": "9ff9ddec1e2445b6a0aa4ba1ee12f921"
      }
     },
     "metadata": {},
     "output_type": "display_data"
    },
    {
     "data": {
      "text/plain": "Validating: 0it [00:00, ?it/s]",
      "application/vnd.jupyter.widget-view+json": {
       "version_major": 2,
       "version_minor": 0,
       "model_id": "6f372d46a7b14cab8429563ae46b223a"
      }
     },
     "metadata": {},
     "output_type": "display_data"
    },
    {
     "data": {
      "text/plain": "Validating: 0it [00:00, ?it/s]",
      "application/vnd.jupyter.widget-view+json": {
       "version_major": 2,
       "version_minor": 0,
       "model_id": "974136182a664063bee99d3555202d2d"
      }
     },
     "metadata": {},
     "output_type": "display_data"
    },
    {
     "data": {
      "text/plain": "Validating: 0it [00:00, ?it/s]",
      "application/vnd.jupyter.widget-view+json": {
       "version_major": 2,
       "version_minor": 0,
       "model_id": "8e3823832d024b0f8b6c2b2bd9693837"
      }
     },
     "metadata": {},
     "output_type": "display_data"
    },
    {
     "data": {
      "text/plain": "Validating: 0it [00:00, ?it/s]",
      "application/vnd.jupyter.widget-view+json": {
       "version_major": 2,
       "version_minor": 0,
       "model_id": "92f12dd7a5e447cf8e19557047063925"
      }
     },
     "metadata": {},
     "output_type": "display_data"
    },
    {
     "data": {
      "text/plain": "Validating: 0it [00:00, ?it/s]",
      "application/vnd.jupyter.widget-view+json": {
       "version_major": 2,
       "version_minor": 0,
       "model_id": "4a0a7f7f7f924ef092951a4e1b46d4ac"
      }
     },
     "metadata": {},
     "output_type": "display_data"
    },
    {
     "data": {
      "text/plain": "Validating: 0it [00:00, ?it/s]",
      "application/vnd.jupyter.widget-view+json": {
       "version_major": 2,
       "version_minor": 0,
       "model_id": "18456a980bf14ca8a9ced3ea80f48964"
      }
     },
     "metadata": {},
     "output_type": "display_data"
    },
    {
     "name": "stderr",
     "output_type": "stream",
     "text": [
      "/Users/georgehuang/GitRepo/olsen/venv/lib/python3.8/site-packages/pytorch_lightning/trainer/trainer.py:1047: UserWarning: Detected KeyboardInterrupt, attempting graceful shutdown...\n",
      "  rank_zero_warn(\"Detected KeyboardInterrupt, attempting graceful shutdown...\")\n",
      "/Users/georgehuang/GitRepo/olsen/venv/lib/python3.8/site-packages/pytorch_lightning/trainer/data_loading.py:105: UserWarning: The dataloader, test dataloader 0, does not have many workers which may be a bottleneck. Consider increasing the value of the `num_workers` argument` (try 8 which is the number of cpus on this machine) in the `DataLoader` init to improve performance.\n",
      "  rank_zero_warn(\n"
     ]
    },
    {
     "data": {
      "text/plain": "Testing: 0it [00:00, ?it/s]",
      "application/vnd.jupyter.widget-view+json": {
       "version_major": 2,
       "version_minor": 0,
       "model_id": "bcd499ef2c5a49508604f1f4a02bd83d"
      }
     },
     "metadata": {},
     "output_type": "display_data"
    },
    {
     "name": "stdout",
     "output_type": "stream",
     "text": [
      "--------------------------------------------------------------------------------\n",
      "DATALOADER:0 TEST RESULTS\n",
      "{'test_f1_macro': 0.6948717832565308,\n",
      " 'test_f1_micro': 0.889162540435791,\n",
      " 'test_f1_weighted': 0.884523332118988,\n",
      " 'test_loss': 0.39446792006492615,\n",
      " 'test_mcc': 0.8706417679786682,\n",
      " 'test_precision_macro': 0.7518275380134583,\n",
      " 'test_precision_micro': 0.889162540435791,\n",
      " 'test_precision_weighted': 0.8897879719734192,\n",
      " 'test_recall_macro': 0.6868268251419067,\n",
      " 'test_recall_micro': 0.889162540435791,\n",
      " 'test_recall_weighted': 0.8891624808311462}\n",
      "--------------------------------------------------------------------------------\n"
     ]
    },
    {
     "data": {
      "text/plain": "[{'test_loss': 0.39446792006492615,\n  'test_precision_macro': 0.7518275380134583,\n  'test_precision_micro': 0.889162540435791,\n  'test_precision_weighted': 0.8897879719734192,\n  'test_recall_macro': 0.6868268251419067,\n  'test_recall_micro': 0.889162540435791,\n  'test_recall_weighted': 0.8891624808311462,\n  'test_f1_macro': 0.6948717832565308,\n  'test_f1_micro': 0.889162540435791,\n  'test_f1_weighted': 0.884523332118988,\n  'test_mcc': 0.8706417679786682}]"
     },
     "execution_count": 134,
     "metadata": {},
     "output_type": "execute_result"
    },
    {
     "data": {
      "text/plain": "<Figure size 1728x1728 with 2 Axes>",
      "image/png": "[encoded data removed]"
     },
     "metadata": {
      "needs_background": "light"
     },
     "output_type": "display_data"
    }
   ],
   "source": [
    "model = NeuralNetModel(6, 100, 12, defined_labels)\n",
    "checkpoint_callback = ModelCheckpoint(monitor=\"val_loss\")\n",
    "trainer = Trainer(gpus=0, max_epochs=50, callbacks=[checkpoint_callback])\n",
    "trainer.fit(model, train_dataloaders=train_dataloader, val_dataloaders=val_dataloader)\n",
    "trainer.test(model, test_dataloaders=test_dataloader)"
   ],
   "metadata": {
    "collapsed": false,
    "pycharm": {
     "name": "#%%\n"
    }
   }
  },
  {
   "cell_type": "code",
   "execution_count": 134,
   "outputs": [],
   "source": [],
   "metadata": {
    "collapsed": false,
    "pycharm": {
     "name": "#%%\n"
    }
   }
  }
 ],
 "metadata": {
  "kernelspec": {
   "name": "pycharm-a53371db",
   "language": "python",
   "display_name": "PyCharm (CHASE)"
  },
  "language_info": {
   "codemirror_mode": {
    "name": "ipython",
    "version": 2
   },
   "file_extension": ".py",
   "mimetype": "text/x-python",
   "name": "python",
   "nbconvert_exporter": "python",
   "pygments_lexer": "ipython2",
   "version": "2.7.6"
  }
 },
 "nbformat": 4,
 "nbformat_minor": 0
}