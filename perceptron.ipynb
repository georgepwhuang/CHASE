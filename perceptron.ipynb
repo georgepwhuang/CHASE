{
 "cells": [
  {
   "cell_type": "code",
   "execution_count": 1,
   "outputs": [],
   "source": [
    "import matplotlib.pyplot as plt\n",
    "import seaborn as sb\n",
    "import torch\n",
    "import torch.nn as nn\n",
    "from torch.utils.data import Dataset, DataLoader\n",
    "import torchmetrics as tm\n",
    "from pytorch_lightning import LightningModule, Trainer\n",
    "from pytorch_lightning.callbacks import ModelCheckpoint"
   ],
   "metadata": {
    "collapsed": false,
    "pycharm": {
     "name": "#%%\n"
    }
   }
  },
  {
   "cell_type": "code",
   "execution_count": 2,
   "outputs": [],
   "source": [
    "with open('datasets/activity_labels.txt') as f:\n",
    "\tdefined_labels = [line.strip().split(\" \")[1] for line in f]"
   ],
   "metadata": {
    "collapsed": false,
    "pycharm": {
     "name": "#%%\n"
    }
   }
  },
  {
   "cell_type": "code",
   "execution_count": 3,
   "outputs": [],
   "source": [
    "X_train = []\n",
    "with open(\"datasets/Train/X_train.txt\") as f:\n",
    "\tfor line in f:\n",
    "\t\tarr = line.strip().split(\" \")\n",
    "\t\tarr = [float(num) for num in arr]\n",
    "\t\tX_train.append(torch.tensor(arr))\n",
    "y_train = []\n",
    "with open(\"datasets/Train/y_train.txt\") as f:\n",
    "\tfor line in f:\n",
    "\t\ty_train.append(int(line.strip())-1)\n",
    "\n",
    "X_test = []\n",
    "with open(\"datasets/Test/X_test.txt\") as f:\n",
    "\tfor line in f:\n",
    "\t\tarr = line.strip().split(\" \")\n",
    "\t\tarr = [float(num) for num in arr]\n",
    "\t\tX_test.append(torch.tensor(arr))\n",
    "y_test = []\n",
    "with open(\"datasets/Test/y_test.txt\") as f:\n",
    "\tfor line in f:\n",
    "\t\ty_test.append(int(line.strip())-1)"
   ],
   "metadata": {
    "collapsed": false,
    "pycharm": {
     "name": "#%%\n"
    }
   }
  },
  {
   "cell_type": "code",
   "execution_count": 4,
   "outputs": [],
   "source": [
    "class TabularDataset(Dataset):\n",
    "\tdef __init__(self, ts, labels):\n",
    "\t\tself.ts = ts\n",
    "\t\tself.labels = labels\n",
    "\n",
    "\tdef __len__(self):\n",
    "\t\treturn len(self.labels)\n",
    "\n",
    "\tdef __getitem__(self, idx):\n",
    "\t\tdatas = self.ts[idx]\n",
    "\t\tlabel = self.labels[idx]\n",
    "\t\treturn datas, label"
   ],
   "metadata": {
    "collapsed": false,
    "pycharm": {
     "name": "#%%\n"
    }
   }
  },
  {
   "cell_type": "code",
   "execution_count": 5,
   "outputs": [],
   "source": [
    "train_data = TabularDataset(X_train, y_train)\n",
    "test_data = TabularDataset(X_test, y_test)"
   ],
   "metadata": {
    "collapsed": false,
    "pycharm": {
     "name": "#%%\n"
    }
   }
  },
  {
   "cell_type": "code",
   "execution_count": 6,
   "outputs": [],
   "source": [
    "train_dataloader = DataLoader(train_data, batch_size=64, shuffle=True)\n",
    "test_dataloader = DataLoader(test_data, batch_size=64)"
   ],
   "metadata": {
    "collapsed": false,
    "pycharm": {
     "name": "#%%\n"
    }
   }
  },
  {
   "cell_type": "code",
   "execution_count": 7,
   "outputs": [],
   "source": [
    "class ClassificationMetrics(nn.Module):\n",
    "    def __init__(self, num_classes: int, mode: str):\n",
    "        super().__init__()\n",
    "        self.num_classes = num_classes\n",
    "        self.mode = mode\n",
    "\n",
    "        self.categ_pc = tm.Precision(num_classes=self.num_classes, average=\"none\")\n",
    "        self.macro_pc = tm.Precision(num_classes=self.num_classes, average=\"macro\")\n",
    "        self.micro_pc = tm.Precision(num_classes=self.num_classes, average=\"micro\")\n",
    "        self.weigh_pc = tm.Precision(num_classes=self.num_classes, average=\"weighted\")\n",
    "\n",
    "        self.categ_rc = tm.Recall(num_classes=self.num_classes, average=\"none\")\n",
    "        self.macro_rc = tm.Recall(num_classes=self.num_classes, average=\"macro\")\n",
    "        self.micro_rc = tm.Recall(num_classes=self.num_classes, average=\"micro\")\n",
    "        self.weigh_rc = tm.Recall(num_classes=self.num_classes, average=\"weighted\")\n",
    "\n",
    "        self.categ_f1 = tm.F1(num_classes=self.num_classes, average=\"none\")\n",
    "        self.macro_f1 = tm.F1(num_classes=self.num_classes, average=\"macro\")\n",
    "        self.micro_f1 = tm.F1(num_classes=self.num_classes, average=\"micro\")\n",
    "        self.weigh_f1 = tm.F1(num_classes=self.num_classes, average=\"weighted\")\n",
    "\n",
    "        self.cnfs_mat = tm.ConfusionMatrix(num_classes=self.num_classes, normalize=\"true\")\n",
    "\n",
    "        self.mcc = tm.MatthewsCorrcoef(num_classes=self.num_classes)\n",
    "\n",
    "    def to(self, device: torch.device):\n",
    "        self.categ_pc.to(device)\n",
    "        self.macro_pc.to(device)\n",
    "        self.micro_pc.to(device)\n",
    "        self.weigh_pc.to(device)\n",
    "\n",
    "        self.categ_rc.to(device)\n",
    "        self.macro_rc.to(device)\n",
    "        self.micro_rc.to(device)\n",
    "        self.weigh_rc.to(device)\n",
    "\n",
    "        self.categ_f1.to(device)\n",
    "        self.macro_f1.to(device)\n",
    "        self.micro_f1.to(device)\n",
    "        self.weigh_f1.to(device)\n",
    "\n",
    "        self.cnfs_mat.to(device)\n",
    "\n",
    "        self.mcc.to(device)\n",
    "\n",
    "    def forward(self, x, y):\n",
    "        self.categ_pc(x, y)\n",
    "        self.macro_pc(x, y)\n",
    "        self.micro_pc(x, y)\n",
    "        self.weigh_pc(x, y)\n",
    "\n",
    "        self.categ_rc(x, y)\n",
    "        self.macro_rc(x, y)\n",
    "        self.micro_rc(x, y)\n",
    "        self.weigh_rc(x, y)\n",
    "\n",
    "        self.categ_f1(x, y)\n",
    "        self.macro_f1(x, y)\n",
    "        self.micro_f1(x, y)\n",
    "        self.weigh_f1(x, y)\n",
    "\n",
    "        self.cnfs_mat(x, y)\n",
    "        self.mcc(x, y)"
   ],
   "metadata": {
    "collapsed": false,
    "pycharm": {
     "name": "#%%\n"
    }
   }
  },
  {
   "cell_type": "code",
   "execution_count": 8,
   "outputs": [],
   "source": [
    "class MultiLayerPerceptron(LightningModule):\n",
    "\tdef __init__(self, input_dim, num_classes, labels):\n",
    "\t\tsuper().__init__()\n",
    "\t\tself.input_dim = input_dim\n",
    "\t\tself.num_classes = num_classes\n",
    "\t\tself.dense = nn.Linear(self.input_dim, self.input_dim)\n",
    "\t\tself.relu = nn.ReLU()\n",
    "\t\tself.linear = nn.Linear(self.input_dim, self.num_classes)\n",
    "\t\tself.model = nn.Sequential(self.dense, self.relu, self.linear)\n",
    "\t\tself.loss = nn.CrossEntropyLoss()\n",
    "\t\tself.labels = labels if labels is not None else list(range(self.num_classes))\n",
    "\n",
    "\tdef setup(self, stage=None) -> None:\n",
    "\t\tif stage == 'fit':\n",
    "\t\t\tself.val_metrics = ClassificationMetrics(self.num_classes, \"val\")\n",
    "\t\tif stage == 'test':\n",
    "\t\t\tself.test_metrics = ClassificationMetrics(self.num_classes, \"test\")\n",
    "\n",
    "\tdef forward(self, x):\n",
    "\t\tresult = self.model(x)\n",
    "\t\treturn result\n",
    "\n",
    "\tdef configure_optimizers(self):\n",
    "\t\treturn torch.optim.AdamW(self.parameters(), lr=1e-3)\n",
    "\n",
    "\tdef training_step(self, batch, batch_idx):\n",
    "\t\tx, y = batch\n",
    "\t\tpred = self(x)\n",
    "\t\ty = y.type_as(pred).long()\n",
    "\t\tloss = self.loss(pred, y)\n",
    "\t\tself.log(\"train_loss\", loss)\n",
    "\t\treturn loss\n",
    "\n",
    "\tdef validation_step(self, batch, batch_idx):\n",
    "\t\tx, y = batch\n",
    "\t\tpred = self(x)\n",
    "\t\ty = y.type_as(pred).long()\n",
    "\t\tloss = self.loss(pred, y)\n",
    "\t\tself.val_metrics(pred, y)\n",
    "\t\tself.log(\"val_loss\", loss)\n",
    "\t\tself.log_scalars(self.val_metrics)\n",
    "\n",
    "\tdef validation_epoch_end(self, outputs):\n",
    "\t\tself.log_nonscalars(self.val_metrics)\n",
    "\n",
    "\tdef test_step(self, batch, batch_idx):\n",
    "\t\tx, y = batch\n",
    "\t\tpred = self(x)\n",
    "\t\ty = y.type_as(pred).long()\n",
    "\t\tloss = self.loss(pred, y)\n",
    "\t\tself.test_metrics(pred, y)\n",
    "\t\tself.log(\"test_loss\", loss)\n",
    "\t\tself.log_scalars(self.test_metrics)\n",
    "\n",
    "\tdef test_epoch_end(self, outputs):\n",
    "\t\tself.log_nonscalars(self.test_metrics)\n",
    "\n",
    "\tdef log_scalars(self, metric: ClassificationMetrics):\n",
    "\t\tself.log(f\"{metric.mode}_precision_macro\", metric.macro_pc)\n",
    "\t\tself.log(f\"{metric.mode}_precision_micro\", metric.micro_pc)\n",
    "\t\tself.log(f\"{metric.mode}_precision_weighted\", metric.weigh_pc)\n",
    "\n",
    "\t\tself.log(f\"{metric.mode}_recall_macro\", metric.macro_rc)\n",
    "\t\tself.log(f\"{metric.mode}_recall_micro\", metric.micro_rc)\n",
    "\t\tself.log(f\"{metric.mode}_recall_weighted\", metric.weigh_rc)\n",
    "\n",
    "\t\tself.log(f\"{metric.mode}_f1_macro\", metric.macro_f1)\n",
    "\t\tself.log(f\"{metric.mode}_f1_micro\", metric.micro_f1)\n",
    "\t\tself.log(f\"{metric.mode}_f1_weighted\", metric.weigh_f1)\n",
    "\n",
    "\t\tself.log(f\"{metric.mode}_mcc\", metric.mcc)\n",
    "\n",
    "\tdef log_nonscalars(self, metric: ClassificationMetrics):\n",
    "\t\tfig = plt.figure(figsize=(24, 24))\n",
    "\t\tcf_matrix = metric.cnfs_mat.compute().cpu().numpy()\n",
    "\t\tsb.heatmap(cf_matrix, annot=True, xticklabels=self.labels, yticklabels=self.labels, fmt='.1%')\n",
    "\t\tself.logger.experiment.add_figure(f\"{metric.mode}_cnfs_mat\", fig, global_step=self.current_epoch)\n",
    "\n",
    "\t\tcateg_pc = metric.categ_pc.compute().cpu().tolist()\n",
    "\t\tpc_map = dict(zip(self.labels, categ_pc))\n",
    "\t\tself.logger.experiment.add_scalars(f\"{metric.mode}_precision_categ\", pc_map, global_step=self.current_epoch)\n",
    "\n",
    "\t\tcateg_rc = metric.categ_pc.compute().cpu().tolist()\n",
    "\t\trc_map = dict(zip(self.labels, categ_rc))\n",
    "\t\tself.logger.experiment.add_scalars(f\"{metric.mode}_recall_categ\", rc_map, global_step=self.current_epoch)\n",
    "\n",
    "\t\tcateg_f1 = metric.categ_pc.compute().cpu().tolist()\n",
    "\t\tf1_map = dict(zip(self.labels, categ_f1))\n",
    "\t\tself.logger.experiment.add_scalars(f\"{metric.mode}_f1_categ\", f1_map, global_step=self.current_epoch)"
   ],
   "metadata": {
    "collapsed": false,
    "pycharm": {
     "name": "#%%\n"
    }
   }
  },
  {
   "cell_type": "code",
   "execution_count": 9,
   "outputs": [
    {
     "name": "stderr",
     "output_type": "stream",
     "text": [
      "GPU available: False, used: False\n",
      "TPU available: False, using: 0 TPU cores\n",
      "IPU available: False, using: 0 IPUs\n",
      "\n",
      "  | Name        | Type                  | Params\n",
      "------------------------------------------------------\n",
      "0 | dense       | Linear                | 315 K \n",
      "1 | relu        | ReLU                  | 0     \n",
      "2 | linear      | Linear                | 6.7 K \n",
      "3 | model       | Sequential            | 322 K \n",
      "4 | loss        | CrossEntropyLoss      | 0     \n",
      "5 | val_metrics | ClassificationMetrics | 0     \n",
      "------------------------------------------------------\n",
      "322 K     Trainable params\n",
      "0         Non-trainable params\n",
      "322 K     Total params\n",
      "1.288     Total estimated model params size (MB)\n"
     ]
    },
    {
     "data": {
      "text/plain": "Validation sanity check: 0it [00:00, ?it/s]",
      "application/vnd.jupyter.widget-view+json": {
       "version_major": 2,
       "version_minor": 0,
       "model_id": "ddf1323366194d93b106ddc76867d6dc"
      }
     },
     "metadata": {},
     "output_type": "display_data"
    },
    {
     "name": "stderr",
     "output_type": "stream",
     "text": [
      "/Users/georgehuang/GitRepo/olsen/venv/lib/python3.8/site-packages/pytorch_lightning/trainer/data_loading.py:105: UserWarning: The dataloader, val dataloader 0, does not have many workers which may be a bottleneck. Consider increasing the value of the `num_workers` argument` (try 8 which is the number of cpus on this machine) in the `DataLoader` init to improve performance.\n",
      "  rank_zero_warn(\n",
      "/Users/georgehuang/GitRepo/olsen/venv/lib/python3.8/site-packages/torchmetrics/utilities/prints.py:36: UserWarning: 60 nan values found in confusion matrix have been replaced with zeros.\n",
      "  warnings.warn(*args, **kwargs)\n",
      "/Users/georgehuang/GitRepo/olsen/venv/lib/python3.8/site-packages/torchmetrics/utilities/prints.py:36: UserWarning: 12 nan values found in confusion matrix have been replaced with zeros.\n",
      "  warnings.warn(*args, **kwargs)\n",
      "/Users/georgehuang/GitRepo/olsen/venv/lib/python3.8/site-packages/pytorch_lightning/trainer/data_loading.py:105: UserWarning: The dataloader, train dataloader, does not have many workers which may be a bottleneck. Consider increasing the value of the `num_workers` argument` (try 8 which is the number of cpus on this machine) in the `DataLoader` init to improve performance.\n",
      "  rank_zero_warn(\n"
     ]
    },
    {
     "data": {
      "text/plain": "Training: -1it [00:00, ?it/s]",
      "application/vnd.jupyter.widget-view+json": {
       "version_major": 2,
       "version_minor": 0,
       "model_id": "80cf35db6d4d46bc983a05e97bacb5d8"
      }
     },
     "metadata": {},
     "output_type": "display_data"
    },
    {
     "data": {
      "text/plain": "Validating: 0it [00:00, ?it/s]",
      "application/vnd.jupyter.widget-view+json": {
       "version_major": 2,
       "version_minor": 0,
       "model_id": "66aa0ff77be54c15937d2cd4f789fb25"
      }
     },
     "metadata": {},
     "output_type": "display_data"
    },
    {
     "name": "stderr",
     "output_type": "stream",
     "text": [
      "/Users/georgehuang/GitRepo/olsen/venv/lib/python3.8/site-packages/torchmetrics/utilities/prints.py:36: UserWarning: 84 nan values found in confusion matrix have been replaced with zeros.\n",
      "  warnings.warn(*args, **kwargs)\n",
      "/Users/georgehuang/GitRepo/olsen/venv/lib/python3.8/site-packages/torchmetrics/utilities/prints.py:36: UserWarning: 36 nan values found in confusion matrix have been replaced with zeros.\n",
      "  warnings.warn(*args, **kwargs)\n",
      "/Users/georgehuang/GitRepo/olsen/venv/lib/python3.8/site-packages/torchmetrics/utilities/prints.py:36: UserWarning: 108 nan values found in confusion matrix have been replaced with zeros.\n",
      "  warnings.warn(*args, **kwargs)\n",
      "/Users/georgehuang/GitRepo/olsen/venv/lib/python3.8/site-packages/torchmetrics/utilities/prints.py:36: UserWarning: 72 nan values found in confusion matrix have been replaced with zeros.\n",
      "  warnings.warn(*args, **kwargs)\n",
      "/Users/georgehuang/GitRepo/olsen/venv/lib/python3.8/site-packages/torchmetrics/utilities/prints.py:36: UserWarning: 96 nan values found in confusion matrix have been replaced with zeros.\n",
      "  warnings.warn(*args, **kwargs)\n",
      "/Users/georgehuang/GitRepo/olsen/venv/lib/python3.8/site-packages/torchmetrics/utilities/prints.py:36: UserWarning: 48 nan values found in confusion matrix have been replaced with zeros.\n",
      "  warnings.warn(*args, **kwargs)\n",
      "/Users/georgehuang/GitRepo/olsen/venv/lib/python3.8/site-packages/torchmetrics/utilities/prints.py:36: UserWarning: 120 nan values found in confusion matrix have been replaced with zeros.\n",
      "  warnings.warn(*args, **kwargs)\n"
     ]
    },
    {
     "data": {
      "text/plain": "Validating: 0it [00:00, ?it/s]",
      "application/vnd.jupyter.widget-view+json": {
       "version_major": 2,
       "version_minor": 0,
       "model_id": "907af2f701054aaaa61fa4792ff59a7a"
      }
     },
     "metadata": {},
     "output_type": "display_data"
    },
    {
     "data": {
      "text/plain": "Validating: 0it [00:00, ?it/s]",
      "application/vnd.jupyter.widget-view+json": {
       "version_major": 2,
       "version_minor": 0,
       "model_id": "657abbe16d9e4759ae8a42d52573444b"
      }
     },
     "metadata": {},
     "output_type": "display_data"
    },
    {
     "data": {
      "text/plain": "Validating: 0it [00:00, ?it/s]",
      "application/vnd.jupyter.widget-view+json": {
       "version_major": 2,
       "version_minor": 0,
       "model_id": "b9c719a9680a44c1ae8cb83951e59e62"
      }
     },
     "metadata": {},
     "output_type": "display_data"
    },
    {
     "data": {
      "text/plain": "Validating: 0it [00:00, ?it/s]",
      "application/vnd.jupyter.widget-view+json": {
       "version_major": 2,
       "version_minor": 0,
       "model_id": "5c7a3d51fd204943a22bc7f70eab6a32"
      }
     },
     "metadata": {},
     "output_type": "display_data"
    },
    {
     "data": {
      "text/plain": "Validating: 0it [00:00, ?it/s]",
      "application/vnd.jupyter.widget-view+json": {
       "version_major": 2,
       "version_minor": 0,
       "model_id": "63fa57a4527d47138976572501eb6901"
      }
     },
     "metadata": {},
     "output_type": "display_data"
    },
    {
     "data": {
      "text/plain": "Validating: 0it [00:00, ?it/s]",
      "application/vnd.jupyter.widget-view+json": {
       "version_major": 2,
       "version_minor": 0,
       "model_id": "9bcb05df6ea24cceb47c8d5fd563a951"
      }
     },
     "metadata": {},
     "output_type": "display_data"
    },
    {
     "data": {
      "text/plain": "Validating: 0it [00:00, ?it/s]",
      "application/vnd.jupyter.widget-view+json": {
       "version_major": 2,
       "version_minor": 0,
       "model_id": "bc0a6fa70c0142a3866c64401d7549ac"
      }
     },
     "metadata": {},
     "output_type": "display_data"
    },
    {
     "data": {
      "text/plain": "Validating: 0it [00:00, ?it/s]",
      "application/vnd.jupyter.widget-view+json": {
       "version_major": 2,
       "version_minor": 0,
       "model_id": "85297070e51e463e9dbf2ab5de2cfb57"
      }
     },
     "metadata": {},
     "output_type": "display_data"
    },
    {
     "data": {
      "text/plain": "Validating: 0it [00:00, ?it/s]",
      "application/vnd.jupyter.widget-view+json": {
       "version_major": 2,
       "version_minor": 0,
       "model_id": "1cc5321f5be04eb3aadff5172cbb8113"
      }
     },
     "metadata": {},
     "output_type": "display_data"
    },
    {
     "data": {
      "text/plain": "Validating: 0it [00:00, ?it/s]",
      "application/vnd.jupyter.widget-view+json": {
       "version_major": 2,
       "version_minor": 0,
       "model_id": "e0ac0d1813634df5b3a6c663ff5dacd5"
      }
     },
     "metadata": {},
     "output_type": "display_data"
    },
    {
     "data": {
      "text/plain": "Validating: 0it [00:00, ?it/s]",
      "application/vnd.jupyter.widget-view+json": {
       "version_major": 2,
       "version_minor": 0,
       "model_id": "418a118d46cc42c6bd798a2542771896"
      }
     },
     "metadata": {},
     "output_type": "display_data"
    },
    {
     "data": {
      "text/plain": "Validating: 0it [00:00, ?it/s]",
      "application/vnd.jupyter.widget-view+json": {
       "version_major": 2,
       "version_minor": 0,
       "model_id": "aa33c5df9bb5428183e2dfbe4fc40f42"
      }
     },
     "metadata": {},
     "output_type": "display_data"
    },
    {
     "data": {
      "text/plain": "Validating: 0it [00:00, ?it/s]",
      "application/vnd.jupyter.widget-view+json": {
       "version_major": 2,
       "version_minor": 0,
       "model_id": "9bef6e8d4f0a4703aa2e45091fb46c9a"
      }
     },
     "metadata": {},
     "output_type": "display_data"
    },
    {
     "data": {
      "text/plain": "Validating: 0it [00:00, ?it/s]",
      "application/vnd.jupyter.widget-view+json": {
       "version_major": 2,
       "version_minor": 0,
       "model_id": "b83e6a57127a4d92a571427ea3c3c365"
      }
     },
     "metadata": {},
     "output_type": "display_data"
    },
    {
     "data": {
      "text/plain": "Validating: 0it [00:00, ?it/s]",
      "application/vnd.jupyter.widget-view+json": {
       "version_major": 2,
       "version_minor": 0,
       "model_id": "3a40738a2733428e8eda41bd39ed38bf"
      }
     },
     "metadata": {},
     "output_type": "display_data"
    },
    {
     "data": {
      "text/plain": "Validating: 0it [00:00, ?it/s]",
      "application/vnd.jupyter.widget-view+json": {
       "version_major": 2,
       "version_minor": 0,
       "model_id": "1ead23babbf74cf7bb48ce9716e057d9"
      }
     },
     "metadata": {},
     "output_type": "display_data"
    },
    {
     "data": {
      "text/plain": "Validating: 0it [00:00, ?it/s]",
      "application/vnd.jupyter.widget-view+json": {
       "version_major": 2,
       "version_minor": 0,
       "model_id": "df3c5809ac0e4cf486ec8ab4eaee0caa"
      }
     },
     "metadata": {},
     "output_type": "display_data"
    },
    {
     "data": {
      "text/plain": "Validating: 0it [00:00, ?it/s]",
      "application/vnd.jupyter.widget-view+json": {
       "version_major": 2,
       "version_minor": 0,
       "model_id": "c9a8291a3f6d4310b2b1e390c7f34d81"
      }
     },
     "metadata": {},
     "output_type": "display_data"
    },
    {
     "data": {
      "text/plain": "Validating: 0it [00:00, ?it/s]",
      "application/vnd.jupyter.widget-view+json": {
       "version_major": 2,
       "version_minor": 0,
       "model_id": "a25c8cf2dbe1470ab7bb6881415ff430"
      }
     },
     "metadata": {},
     "output_type": "display_data"
    },
    {
     "data": {
      "text/plain": "Validating: 0it [00:00, ?it/s]",
      "application/vnd.jupyter.widget-view+json": {
       "version_major": 2,
       "version_minor": 0,
       "model_id": "2a7727df0e5d414096fa6b3e0ca288e6"
      }
     },
     "metadata": {},
     "output_type": "display_data"
    },
    {
     "data": {
      "text/plain": "Validating: 0it [00:00, ?it/s]",
      "application/vnd.jupyter.widget-view+json": {
       "version_major": 2,
       "version_minor": 0,
       "model_id": "d1f6414c559c4eae8348c11c6ea42b78"
      }
     },
     "metadata": {},
     "output_type": "display_data"
    },
    {
     "data": {
      "text/plain": "Validating: 0it [00:00, ?it/s]",
      "application/vnd.jupyter.widget-view+json": {
       "version_major": 2,
       "version_minor": 0,
       "model_id": "0b7109405a9d4240bb9d3c304af0b603"
      }
     },
     "metadata": {},
     "output_type": "display_data"
    },
    {
     "data": {
      "text/plain": "Validating: 0it [00:00, ?it/s]",
      "application/vnd.jupyter.widget-view+json": {
       "version_major": 2,
       "version_minor": 0,
       "model_id": "c271f800fb55405c87f9336c9bcc5977"
      }
     },
     "metadata": {},
     "output_type": "display_data"
    },
    {
     "data": {
      "text/plain": "Validating: 0it [00:00, ?it/s]",
      "application/vnd.jupyter.widget-view+json": {
       "version_major": 2,
       "version_minor": 0,
       "model_id": "8c8ed01acaf4444e9de5664b6daa4301"
      }
     },
     "metadata": {},
     "output_type": "display_data"
    },
    {
     "data": {
      "text/plain": "Validating: 0it [00:00, ?it/s]",
      "application/vnd.jupyter.widget-view+json": {
       "version_major": 2,
       "version_minor": 0,
       "model_id": "1424e785d38a49248ee6d6e6296c611b"
      }
     },
     "metadata": {},
     "output_type": "display_data"
    },
    {
     "data": {
      "text/plain": "Validating: 0it [00:00, ?it/s]",
      "application/vnd.jupyter.widget-view+json": {
       "version_major": 2,
       "version_minor": 0,
       "model_id": "c5581daed30f4ea6aa7fe4e3700a35f0"
      }
     },
     "metadata": {},
     "output_type": "display_data"
    },
    {
     "data": {
      "text/plain": "Validating: 0it [00:00, ?it/s]",
      "application/vnd.jupyter.widget-view+json": {
       "version_major": 2,
       "version_minor": 0,
       "model_id": "71fc78bb1e364c1e8ccb4c3ab1f166a0"
      }
     },
     "metadata": {},
     "output_type": "display_data"
    },
    {
     "data": {
      "text/plain": "Validating: 0it [00:00, ?it/s]",
      "application/vnd.jupyter.widget-view+json": {
       "version_major": 2,
       "version_minor": 0,
       "model_id": "93c28dd9159f4cd0b381a22c811d058e"
      }
     },
     "metadata": {},
     "output_type": "display_data"
    },
    {
     "data": {
      "text/plain": "Validating: 0it [00:00, ?it/s]",
      "application/vnd.jupyter.widget-view+json": {
       "version_major": 2,
       "version_minor": 0,
       "model_id": "4f094804d77b4aacb3fb5bf58cf8998a"
      }
     },
     "metadata": {},
     "output_type": "display_data"
    },
    {
     "data": {
      "text/plain": "Validating: 0it [00:00, ?it/s]",
      "application/vnd.jupyter.widget-view+json": {
       "version_major": 2,
       "version_minor": 0,
       "model_id": "763fe85c0d9e43cab18f6dbabf98397c"
      }
     },
     "metadata": {},
     "output_type": "display_data"
    },
    {
     "data": {
      "text/plain": "Validating: 0it [00:00, ?it/s]",
      "application/vnd.jupyter.widget-view+json": {
       "version_major": 2,
       "version_minor": 0,
       "model_id": "9ca00c4b7f4c478bb5e59f69dcf84d43"
      }
     },
     "metadata": {},
     "output_type": "display_data"
    },
    {
     "data": {
      "text/plain": "Validating: 0it [00:00, ?it/s]",
      "application/vnd.jupyter.widget-view+json": {
       "version_major": 2,
       "version_minor": 0,
       "model_id": "2382756a92a94baeb821030d17498d9e"
      }
     },
     "metadata": {},
     "output_type": "display_data"
    },
    {
     "data": {
      "text/plain": "Validating: 0it [00:00, ?it/s]",
      "application/vnd.jupyter.widget-view+json": {
       "version_major": 2,
       "version_minor": 0,
       "model_id": "b0173553377e482b89535444f06d292d"
      }
     },
     "metadata": {},
     "output_type": "display_data"
    },
    {
     "data": {
      "text/plain": "Validating: 0it [00:00, ?it/s]",
      "application/vnd.jupyter.widget-view+json": {
       "version_major": 2,
       "version_minor": 0,
       "model_id": "d6b2768d4e4a43f299bc401b7992e88e"
      }
     },
     "metadata": {},
     "output_type": "display_data"
    },
    {
     "data": {
      "text/plain": "Validating: 0it [00:00, ?it/s]",
      "application/vnd.jupyter.widget-view+json": {
       "version_major": 2,
       "version_minor": 0,
       "model_id": "1df1237a6cc946ccb035e161f1cc73aa"
      }
     },
     "metadata": {},
     "output_type": "display_data"
    },
    {
     "data": {
      "text/plain": "Validating: 0it [00:00, ?it/s]",
      "application/vnd.jupyter.widget-view+json": {
       "version_major": 2,
       "version_minor": 0,
       "model_id": "875c842a69334bca91aaed7443ee838c"
      }
     },
     "metadata": {},
     "output_type": "display_data"
    },
    {
     "data": {
      "text/plain": "Validating: 0it [00:00, ?it/s]",
      "application/vnd.jupyter.widget-view+json": {
       "version_major": 2,
       "version_minor": 0,
       "model_id": "799ab56522d14028849ffcfe7eacf601"
      }
     },
     "metadata": {},
     "output_type": "display_data"
    },
    {
     "data": {
      "text/plain": "Validating: 0it [00:00, ?it/s]",
      "application/vnd.jupyter.widget-view+json": {
       "version_major": 2,
       "version_minor": 0,
       "model_id": "76575126ef3441f68905d379377549e0"
      }
     },
     "metadata": {},
     "output_type": "display_data"
    },
    {
     "data": {
      "text/plain": "Validating: 0it [00:00, ?it/s]",
      "application/vnd.jupyter.widget-view+json": {
       "version_major": 2,
       "version_minor": 0,
       "model_id": "b0fd5947f3e0465f9dd64cbcee0b75f5"
      }
     },
     "metadata": {},
     "output_type": "display_data"
    },
    {
     "data": {
      "text/plain": "Validating: 0it [00:00, ?it/s]",
      "application/vnd.jupyter.widget-view+json": {
       "version_major": 2,
       "version_minor": 0,
       "model_id": "0c33d13489984dc994468d2bddf0140c"
      }
     },
     "metadata": {},
     "output_type": "display_data"
    },
    {
     "data": {
      "text/plain": "Validating: 0it [00:00, ?it/s]",
      "application/vnd.jupyter.widget-view+json": {
       "version_major": 2,
       "version_minor": 0,
       "model_id": "9fba7f83cde64098bd643d3da2585571"
      }
     },
     "metadata": {},
     "output_type": "display_data"
    },
    {
     "data": {
      "text/plain": "Validating: 0it [00:00, ?it/s]",
      "application/vnd.jupyter.widget-view+json": {
       "version_major": 2,
       "version_minor": 0,
       "model_id": "039eed08de0d4337b73a08935e0969a9"
      }
     },
     "metadata": {},
     "output_type": "display_data"
    },
    {
     "data": {
      "text/plain": "Validating: 0it [00:00, ?it/s]",
      "application/vnd.jupyter.widget-view+json": {
       "version_major": 2,
       "version_minor": 0,
       "model_id": "ca58611e707a4071aa8c9bfe57173d9c"
      }
     },
     "metadata": {},
     "output_type": "display_data"
    },
    {
     "data": {
      "text/plain": "Validating: 0it [00:00, ?it/s]",
      "application/vnd.jupyter.widget-view+json": {
       "version_major": 2,
       "version_minor": 0,
       "model_id": "8a28fedbed7547a482c3594f5a1a4c7d"
      }
     },
     "metadata": {},
     "output_type": "display_data"
    },
    {
     "data": {
      "text/plain": "Validating: 0it [00:00, ?it/s]",
      "application/vnd.jupyter.widget-view+json": {
       "version_major": 2,
       "version_minor": 0,
       "model_id": "142bd243fa264e6fb907c4e76669e37e"
      }
     },
     "metadata": {},
     "output_type": "display_data"
    },
    {
     "data": {
      "text/plain": "Validating: 0it [00:00, ?it/s]",
      "application/vnd.jupyter.widget-view+json": {
       "version_major": 2,
       "version_minor": 0,
       "model_id": "30a6ccd6b195499990d579d040a00c37"
      }
     },
     "metadata": {},
     "output_type": "display_data"
    },
    {
     "data": {
      "text/plain": "Validating: 0it [00:00, ?it/s]",
      "application/vnd.jupyter.widget-view+json": {
       "version_major": 2,
       "version_minor": 0,
       "model_id": "7f163b9955f84ddfb56bd35ce5ba446b"
      }
     },
     "metadata": {},
     "output_type": "display_data"
    },
    {
     "data": {
      "text/plain": "Validating: 0it [00:00, ?it/s]",
      "application/vnd.jupyter.widget-view+json": {
       "version_major": 2,
       "version_minor": 0,
       "model_id": "6cbc3c074de540269fb2df6621a7c4a1"
      }
     },
     "metadata": {},
     "output_type": "display_data"
    },
    {
     "data": {
      "text/plain": "Validating: 0it [00:00, ?it/s]",
      "application/vnd.jupyter.widget-view+json": {
       "version_major": 2,
       "version_minor": 0,
       "model_id": "d54662f6202e40e1b764905b60a318ee"
      }
     },
     "metadata": {},
     "output_type": "display_data"
    },
    {
     "name": "stderr",
     "output_type": "stream",
     "text": [
      "/Users/georgehuang/GitRepo/olsen/venv/lib/python3.8/site-packages/pytorch_lightning/trainer/trainer.py:679: LightningDeprecationWarning: `trainer.test(test_dataloaders)` is deprecated in v1.4 and will be removed in v1.6. Use `trainer.test(dataloaders)` instead.\n",
      "  rank_zero_deprecation(\n",
      "/Users/georgehuang/GitRepo/olsen/venv/lib/python3.8/site-packages/pytorch_lightning/trainer/data_loading.py:105: UserWarning: The dataloader, test dataloader 0, does not have many workers which may be a bottleneck. Consider increasing the value of the `num_workers` argument` (try 8 which is the number of cpus on this machine) in the `DataLoader` init to improve performance.\n",
      "  rank_zero_warn(\n"
     ]
    },
    {
     "data": {
      "text/plain": "Testing: 0it [00:00, ?it/s]",
      "application/vnd.jupyter.widget-view+json": {
       "version_major": 2,
       "version_minor": 0,
       "model_id": "d516304d62ee443788ca0a58ad1ebe78"
      }
     },
     "metadata": {},
     "output_type": "display_data"
    },
    {
     "name": "stdout",
     "output_type": "stream",
     "text": [
      "--------------------------------------------------------------------------------\n",
      "DATALOADER:0 TEST RESULTS\n",
      "{'test_f1_macro': 0.8495360612869263,\n",
      " 'test_f1_micro': 0.9335862994194031,\n",
      " 'test_f1_weighted': 0.9332208633422852,\n",
      " 'test_loss': 0.2791445851325989,\n",
      " 'test_mcc': 0.9222668409347534,\n",
      " 'test_precision_macro': 0.8662391304969788,\n",
      " 'test_precision_micro': 0.9335863590240479,\n",
      " 'test_precision_weighted': 0.9363933205604553,\n",
      " 'test_recall_macro': 0.8385277390480042,\n",
      " 'test_recall_micro': 0.9335863590240479,\n",
      " 'test_recall_weighted': 0.9335862994194031}\n",
      "--------------------------------------------------------------------------------\n"
     ]
    },
    {
     "data": {
      "text/plain": "[{'test_loss': 0.2791445851325989,\n  'test_precision_macro': 0.8662391304969788,\n  'test_precision_micro': 0.9335863590240479,\n  'test_precision_weighted': 0.9363933205604553,\n  'test_recall_macro': 0.8385277390480042,\n  'test_recall_micro': 0.9335863590240479,\n  'test_recall_weighted': 0.9335862994194031,\n  'test_f1_macro': 0.8495360612869263,\n  'test_f1_micro': 0.9335862994194031,\n  'test_f1_weighted': 0.9332208633422852,\n  'test_mcc': 0.9222668409347534}]"
     },
     "execution_count": 9,
     "metadata": {},
     "output_type": "execute_result"
    }
   ],
   "source": [
    "model = MultiLayerPerceptron(561, 12, defined_labels)\n",
    "checkpoint_callback = ModelCheckpoint(monitor=\"val_loss\")\n",
    "trainer = Trainer(gpus=0, max_epochs=50, callbacks=[checkpoint_callback])\n",
    "trainer.fit(model, train_dataloaders=train_dataloader, val_dataloaders=test_dataloader)\n",
    "trainer.test(model, test_dataloaders=test_dataloader)"
   ],
   "metadata": {
    "collapsed": false,
    "pycharm": {
     "name": "#%%\n"
    }
   }
  },
  {
   "cell_type": "code",
   "execution_count": 9,
   "outputs": [],
   "source": [],
   "metadata": {
    "collapsed": false,
    "pycharm": {
     "name": "#%%\n"
    }
   }
  }
 ],
 "metadata": {
  "kernelspec": {
   "display_name": "Python 3",
   "language": "python",
   "name": "python3"
  },
  "language_info": {
   "codemirror_mode": {
    "name": "ipython",
    "version": 2
   },
   "file_extension": ".py",
   "mimetype": "text/x-python",
   "name": "python",
   "nbconvert_exporter": "python",
   "pygments_lexer": "ipython2",
   "version": "2.7.6"
  }
 },
 "nbformat": 4,
 "nbformat_minor": 0
}